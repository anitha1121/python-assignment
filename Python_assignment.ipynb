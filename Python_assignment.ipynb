{
  "nbformat": 4,
  "nbformat_minor": 0,
  "metadata": {
    "colab": {
      "provenance": [],
      "authorship_tag": "ABX9TyMquIihomvWOUPf1d3qFv3/",
      "include_colab_link": true
    },
    "kernelspec": {
      "name": "python3",
      "display_name": "Python 3"
    },
    "language_info": {
      "name": "python"
    }
  },
  "cells": [
    {
      "cell_type": "markdown",
      "metadata": {
        "id": "view-in-github",
        "colab_type": "text"
      },
      "source": [
        "<a href=\"https://colab.research.google.com/github/anitha1121/python-assignment/blob/main/Python_assignment.ipynb\" target=\"_parent\"><img src=\"https://colab.research.google.com/assets/colab-badge.svg\" alt=\"Open In Colab\"/></a>"
      ]
    },
    {
      "cell_type": "code",
      "execution_count": null,
      "metadata": {
        "colab": {
          "base_uri": "https://localhost:8080/"
        },
        "id": "PS87ksJ3uef5",
        "outputId": "d53a7cb4-a7ba-444e-8dc6-0e1c4b038a2b"
      },
      "outputs": [
        {
          "output_type": "stream",
          "name": "stdout",
          "text": [
            "apbqcr\n"
          ]
        }
      ],
      "source": [
        "def interleave_words(word1, word2):\n",
        "    result = \"\".join(a + b for a, b in zip(word1, word2))\n",
        "    result += word1[len(word2):] + word2[len(word1):]\n",
        "    return result\n",
        "\n",
        "word1 = \"abc\"\n",
        "word2 = \"pqr\"\n",
        "output = interleave_words(word1,word2)\n",
        "print(output)"
      ]
    },
    {
      "cell_type": "code",
      "source": [
        "def interleave_words(word1, word2):\n",
        "    min_length = min(len(word1), len(word2))\n",
        "    result = \"\".join(a + b for a, b in zip(word1[:min_length], word2[:min_length]))\n",
        "    result += word1[min_length:] + word2[min_length:]\n",
        "    return result\n",
        "word1 = \"ab\"\n",
        "word2 = \"pqrs\"\n",
        "output = interleave_words(word1, word2)\n",
        "print(output)"
      ],
      "metadata": {
        "colab": {
          "base_uri": "https://localhost:8080/"
        },
        "id": "poWTGKHGur95",
        "outputId": "8c4e1a5f-6064-4ce0-8318-adb280dedc89"
      },
      "execution_count": null,
      "outputs": [
        {
          "output_type": "stream",
          "name": "stdout",
          "text": [
            "apbqrs\n"
          ]
        }
      ]
    },
    {
      "cell_type": "code",
      "source": [
        "def interleave_words(word1, word2):\n",
        "    min_length = min(len(word1), len(word2))\n",
        "    result = \"\".join(a + b for a, b in zip(word1[:min_length], word2[:min_length]))\n",
        "    result += word1[min_length:] + word2[min_length:]\n",
        "    return result\n",
        "word1 = \"abcd\"\n",
        "word2 = \"pq\"\n",
        "output = interleave_words(word1, word2)\n",
        "print(output)"
      ],
      "metadata": {
        "colab": {
          "base_uri": "https://localhost:8080/"
        },
        "id": "ezKLBDBuuxWl",
        "outputId": "f0fd7c7f-4ed5-4715-ea06-f20779530256"
      },
      "execution_count": null,
      "outputs": [
        {
          "output_type": "stream",
          "name": "stdout",
          "text": [
            "apbqcd\n"
          ]
        }
      ]
    },
    {
      "cell_type": "code",
      "source": [
        "\n",
        "\n",
        "def find_gcd_string(str1, str2):\n",
        "    def gcd(a, b):\n",
        "        while b:\n",
        "            a, b = b, a % b\n",
        "        return a\n",
        "\n",
        "    gcd_length = gcd(len(str1), len(str2))\n",
        "    candidate = str1[:gcd_length]\n",
        "\n",
        "    if str1 == candidate * (len(str1) // gcd_length) and str2 == candidate * (len(str2) // gcd_length):\n",
        "        return candidate\n",
        "    return \"\"\n",
        "str1 = \"ABCABC\"\n",
        "str2 = \"ABC\"\n",
        "output = find_gcd_string(str1, str2)\n",
        "print(output)"
      ],
      "metadata": {
        "colab": {
          "base_uri": "https://localhost:8080/"
        },
        "id": "nWXuXh7LvEm0",
        "outputId": "7bd62e46-8cd8-4550-90a2-ee3956bd5ae4"
      },
      "execution_count": null,
      "outputs": [
        {
          "output_type": "stream",
          "name": "stdout",
          "text": [
            "ABC\n"
          ]
        }
      ]
    },
    {
      "cell_type": "code",
      "source": [
        "\n",
        "\n",
        "def find_gcd_string(str1, str2):\n",
        "    def gcd(a, b):\n",
        "        while b:\n",
        "            a, b = b, a % b\n",
        "        return a\n",
        "\n",
        "    gcd_length = gcd(len(str1), len(str2))\n",
        "    candidate = str1[:gcd_length]\n",
        "\n",
        "    if str1 == candidate * (len(str1) // gcd_length) and str2 == candidate * (len(str2) // gcd_length):\n",
        "        return candidate\n",
        "    return \"\"\n",
        "str1 = \"ABABAB\"\n",
        "str2 = \"ABAB\"\n",
        "output = find_gcd_string(str1, str2)\n",
        "print(output)"
      ],
      "metadata": {
        "colab": {
          "base_uri": "https://localhost:8080/"
        },
        "id": "kSFqdC0WvLCZ",
        "outputId": "452bc5a3-b532-4e53-813a-45ec284791db"
      },
      "execution_count": null,
      "outputs": [
        {
          "output_type": "stream",
          "name": "stdout",
          "text": [
            "AB\n"
          ]
        }
      ]
    },
    {
      "cell_type": "code",
      "source": [
        "\n",
        "\n",
        "def find_gcd_string(str1, str2):\n",
        "    def gcd(a, b):\n",
        "        while b:\n",
        "            a, b = b, a % b\n",
        "        return a\n",
        "\n",
        "    gcd_length = gcd(len(str1), len(str2))\n",
        "    candidate = str1[:gcd_length]\n",
        "\n",
        "    if str1 == candidate * (len(str1) // gcd_length) and str2 == candidate * (len(str2) // gcd_length):\n",
        "        return candidate\n",
        "    return \"\"\n",
        "str1 = \"LEET\"\n",
        "str2 = \"CODE\"\n",
        "output = find_gcd_string(str1, str2)\n",
        "print(output)"
      ],
      "metadata": {
        "colab": {
          "base_uri": "https://localhost:8080/"
        },
        "id": "B3DF5wEfvSpu",
        "outputId": "4472eef3-b959-4ed9-bf12-b4121b391158"
      },
      "execution_count": null,
      "outputs": [
        {
          "output_type": "stream",
          "name": "stdout",
          "text": [
            "\n"
          ]
        }
      ]
    },
    {
      "cell_type": "code",
      "source": [],
      "metadata": {
        "id": "ebeq-JZ-vXy7"
      },
      "execution_count": null,
      "outputs": []
    }
  ]
}